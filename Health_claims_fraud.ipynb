{
  "nbformat": 4,
  "nbformat_minor": 0,
  "metadata": {
    "colab": {
      "provenance": [],
      "mount_file_id": "1PriDKRq9183sy0-IYIjS8kfSJppyNtbF",
      "authorship_tag": "ABX9TyOGgx1jkZ7cEsj4vWcph3Mv",
      "include_colab_link": true
    },
    "kernelspec": {
      "name": "python3",
      "display_name": "Python 3"
    },
    "language_info": {
      "name": "python"
    }
  },
  "cells": [
    {
      "cell_type": "markdown",
      "metadata": {
        "id": "view-in-github",
        "colab_type": "text"
      },
      "source": [
        "<a href=\"https://colab.research.google.com/github/dantrainor9/Health-Claims-Fraud/blob/main/Health_claims_fraud.ipynb\" target=\"_parent\"><img src=\"https://colab.research.google.com/assets/colab-badge.svg\" alt=\"Open In Colab\"/></a>"
      ]
    },
    {
      "cell_type": "code",
      "execution_count": 42,
      "metadata": {
        "id": "tdUtFRDJzMQs"
      },
      "outputs": [],
      "source": [
        "#imports\n",
        "import numpy as np\n",
        "import pandas as pd\n",
        "import matplotlib.pyplot as plt\n",
        "import seaborn as sns"
      ]
    },
    {
      "cell_type": "code",
      "source": [
        "#setting up dataframe of benificiary info\n",
        "path1 = '/content/drive/MyDrive/healthcare claims fraud dataset/Train_Beneficiarydata-1542865627584.csv'\n",
        "df_train_ben = pd.read_csv(path1)\n",
        "df_train_ben.head()"
      ],
      "metadata": {
        "colab": {
          "base_uri": "https://localhost:8080/",
          "height": 342
        },
        "id": "BuqbDvgp0gLU",
        "outputId": "34436c57-d0f9-4817-fe2a-71b1d87026ad"
      },
      "execution_count": 43,
      "outputs": [
        {
          "output_type": "execute_result",
          "data": {
            "text/plain": [
              "      BeneID         DOB  DOD  Gender  Race RenalDiseaseIndicator  State  \\\n",
              "0  BENE11001  1943-01-01  NaN       1     1                     0     39   \n",
              "1  BENE11002  1936-09-01  NaN       2     1                     0     39   \n",
              "2  BENE11003  1936-08-01  NaN       1     1                     0     52   \n",
              "3  BENE11004  1922-07-01  NaN       1     1                     0     39   \n",
              "4  BENE11005  1935-09-01  NaN       1     1                     0     24   \n",
              "\n",
              "   County  NoOfMonths_PartACov  NoOfMonths_PartBCov  ...  \\\n",
              "0     230                   12                   12  ...   \n",
              "1     280                   12                   12  ...   \n",
              "2     590                   12                   12  ...   \n",
              "3     270                   12                   12  ...   \n",
              "4     680                   12                   12  ...   \n",
              "\n",
              "   ChronicCond_Depression  ChronicCond_Diabetes  ChronicCond_IschemicHeart  \\\n",
              "0                       1                     1                          1   \n",
              "1                       2                     2                          2   \n",
              "2                       2                     2                          1   \n",
              "3                       2                     1                          1   \n",
              "4                       2                     1                          2   \n",
              "\n",
              "   ChronicCond_Osteoporasis  ChronicCond_rheumatoidarthritis  \\\n",
              "0                         2                                1   \n",
              "1                         2                                2   \n",
              "2                         2                                2   \n",
              "3                         1                                1   \n",
              "4                         2                                2   \n",
              "\n",
              "   ChronicCond_stroke  IPAnnualReimbursementAmt  IPAnnualDeductibleAmt  \\\n",
              "0                   1                     36000                   3204   \n",
              "1                   2                         0                      0   \n",
              "2                   2                         0                      0   \n",
              "3                   2                         0                      0   \n",
              "4                   2                         0                      0   \n",
              "\n",
              "   OPAnnualReimbursementAmt  OPAnnualDeductibleAmt  \n",
              "0                        60                     70  \n",
              "1                        30                     50  \n",
              "2                        90                     40  \n",
              "3                      1810                    760  \n",
              "4                      1790                   1200  \n",
              "\n",
              "[5 rows x 25 columns]"
            ],
            "text/html": [
              "\n",
              "  <div id=\"df-8e51906d-0bdd-4d4e-9b4a-7f20f620a7b7\" class=\"colab-df-container\">\n",
              "    <div>\n",
              "<style scoped>\n",
              "    .dataframe tbody tr th:only-of-type {\n",
              "        vertical-align: middle;\n",
              "    }\n",
              "\n",
              "    .dataframe tbody tr th {\n",
              "        vertical-align: top;\n",
              "    }\n",
              "\n",
              "    .dataframe thead th {\n",
              "        text-align: right;\n",
              "    }\n",
              "</style>\n",
              "<table border=\"1\" class=\"dataframe\">\n",
              "  <thead>\n",
              "    <tr style=\"text-align: right;\">\n",
              "      <th></th>\n",
              "      <th>BeneID</th>\n",
              "      <th>DOB</th>\n",
              "      <th>DOD</th>\n",
              "      <th>Gender</th>\n",
              "      <th>Race</th>\n",
              "      <th>RenalDiseaseIndicator</th>\n",
              "      <th>State</th>\n",
              "      <th>County</th>\n",
              "      <th>NoOfMonths_PartACov</th>\n",
              "      <th>NoOfMonths_PartBCov</th>\n",
              "      <th>...</th>\n",
              "      <th>ChronicCond_Depression</th>\n",
              "      <th>ChronicCond_Diabetes</th>\n",
              "      <th>ChronicCond_IschemicHeart</th>\n",
              "      <th>ChronicCond_Osteoporasis</th>\n",
              "      <th>ChronicCond_rheumatoidarthritis</th>\n",
              "      <th>ChronicCond_stroke</th>\n",
              "      <th>IPAnnualReimbursementAmt</th>\n",
              "      <th>IPAnnualDeductibleAmt</th>\n",
              "      <th>OPAnnualReimbursementAmt</th>\n",
              "      <th>OPAnnualDeductibleAmt</th>\n",
              "    </tr>\n",
              "  </thead>\n",
              "  <tbody>\n",
              "    <tr>\n",
              "      <th>0</th>\n",
              "      <td>BENE11001</td>\n",
              "      <td>1943-01-01</td>\n",
              "      <td>NaN</td>\n",
              "      <td>1</td>\n",
              "      <td>1</td>\n",
              "      <td>0</td>\n",
              "      <td>39</td>\n",
              "      <td>230</td>\n",
              "      <td>12</td>\n",
              "      <td>12</td>\n",
              "      <td>...</td>\n",
              "      <td>1</td>\n",
              "      <td>1</td>\n",
              "      <td>1</td>\n",
              "      <td>2</td>\n",
              "      <td>1</td>\n",
              "      <td>1</td>\n",
              "      <td>36000</td>\n",
              "      <td>3204</td>\n",
              "      <td>60</td>\n",
              "      <td>70</td>\n",
              "    </tr>\n",
              "    <tr>\n",
              "      <th>1</th>\n",
              "      <td>BENE11002</td>\n",
              "      <td>1936-09-01</td>\n",
              "      <td>NaN</td>\n",
              "      <td>2</td>\n",
              "      <td>1</td>\n",
              "      <td>0</td>\n",
              "      <td>39</td>\n",
              "      <td>280</td>\n",
              "      <td>12</td>\n",
              "      <td>12</td>\n",
              "      <td>...</td>\n",
              "      <td>2</td>\n",
              "      <td>2</td>\n",
              "      <td>2</td>\n",
              "      <td>2</td>\n",
              "      <td>2</td>\n",
              "      <td>2</td>\n",
              "      <td>0</td>\n",
              "      <td>0</td>\n",
              "      <td>30</td>\n",
              "      <td>50</td>\n",
              "    </tr>\n",
              "    <tr>\n",
              "      <th>2</th>\n",
              "      <td>BENE11003</td>\n",
              "      <td>1936-08-01</td>\n",
              "      <td>NaN</td>\n",
              "      <td>1</td>\n",
              "      <td>1</td>\n",
              "      <td>0</td>\n",
              "      <td>52</td>\n",
              "      <td>590</td>\n",
              "      <td>12</td>\n",
              "      <td>12</td>\n",
              "      <td>...</td>\n",
              "      <td>2</td>\n",
              "      <td>2</td>\n",
              "      <td>1</td>\n",
              "      <td>2</td>\n",
              "      <td>2</td>\n",
              "      <td>2</td>\n",
              "      <td>0</td>\n",
              "      <td>0</td>\n",
              "      <td>90</td>\n",
              "      <td>40</td>\n",
              "    </tr>\n",
              "    <tr>\n",
              "      <th>3</th>\n",
              "      <td>BENE11004</td>\n",
              "      <td>1922-07-01</td>\n",
              "      <td>NaN</td>\n",
              "      <td>1</td>\n",
              "      <td>1</td>\n",
              "      <td>0</td>\n",
              "      <td>39</td>\n",
              "      <td>270</td>\n",
              "      <td>12</td>\n",
              "      <td>12</td>\n",
              "      <td>...</td>\n",
              "      <td>2</td>\n",
              "      <td>1</td>\n",
              "      <td>1</td>\n",
              "      <td>1</td>\n",
              "      <td>1</td>\n",
              "      <td>2</td>\n",
              "      <td>0</td>\n",
              "      <td>0</td>\n",
              "      <td>1810</td>\n",
              "      <td>760</td>\n",
              "    </tr>\n",
              "    <tr>\n",
              "      <th>4</th>\n",
              "      <td>BENE11005</td>\n",
              "      <td>1935-09-01</td>\n",
              "      <td>NaN</td>\n",
              "      <td>1</td>\n",
              "      <td>1</td>\n",
              "      <td>0</td>\n",
              "      <td>24</td>\n",
              "      <td>680</td>\n",
              "      <td>12</td>\n",
              "      <td>12</td>\n",
              "      <td>...</td>\n",
              "      <td>2</td>\n",
              "      <td>1</td>\n",
              "      <td>2</td>\n",
              "      <td>2</td>\n",
              "      <td>2</td>\n",
              "      <td>2</td>\n",
              "      <td>0</td>\n",
              "      <td>0</td>\n",
              "      <td>1790</td>\n",
              "      <td>1200</td>\n",
              "    </tr>\n",
              "  </tbody>\n",
              "</table>\n",
              "<p>5 rows × 25 columns</p>\n",
              "</div>\n",
              "    <div class=\"colab-df-buttons\">\n",
              "\n",
              "  <div class=\"colab-df-container\">\n",
              "    <button class=\"colab-df-convert\" onclick=\"convertToInteractive('df-8e51906d-0bdd-4d4e-9b4a-7f20f620a7b7')\"\n",
              "            title=\"Convert this dataframe to an interactive table.\"\n",
              "            style=\"display:none;\">\n",
              "\n",
              "  <svg xmlns=\"http://www.w3.org/2000/svg\" height=\"24px\" viewBox=\"0 -960 960 960\">\n",
              "    <path d=\"M120-120v-720h720v720H120Zm60-500h600v-160H180v160Zm220 220h160v-160H400v160Zm0 220h160v-160H400v160ZM180-400h160v-160H180v160Zm440 0h160v-160H620v160ZM180-180h160v-160H180v160Zm440 0h160v-160H620v160Z\"/>\n",
              "  </svg>\n",
              "    </button>\n",
              "\n",
              "  <style>\n",
              "    .colab-df-container {\n",
              "      display:flex;\n",
              "      gap: 12px;\n",
              "    }\n",
              "\n",
              "    .colab-df-convert {\n",
              "      background-color: #E8F0FE;\n",
              "      border: none;\n",
              "      border-radius: 50%;\n",
              "      cursor: pointer;\n",
              "      display: none;\n",
              "      fill: #1967D2;\n",
              "      height: 32px;\n",
              "      padding: 0 0 0 0;\n",
              "      width: 32px;\n",
              "    }\n",
              "\n",
              "    .colab-df-convert:hover {\n",
              "      background-color: #E2EBFA;\n",
              "      box-shadow: 0px 1px 2px rgba(60, 64, 67, 0.3), 0px 1px 3px 1px rgba(60, 64, 67, 0.15);\n",
              "      fill: #174EA6;\n",
              "    }\n",
              "\n",
              "    .colab-df-buttons div {\n",
              "      margin-bottom: 4px;\n",
              "    }\n",
              "\n",
              "    [theme=dark] .colab-df-convert {\n",
              "      background-color: #3B4455;\n",
              "      fill: #D2E3FC;\n",
              "    }\n",
              "\n",
              "    [theme=dark] .colab-df-convert:hover {\n",
              "      background-color: #434B5C;\n",
              "      box-shadow: 0px 1px 3px 1px rgba(0, 0, 0, 0.15);\n",
              "      filter: drop-shadow(0px 1px 2px rgba(0, 0, 0, 0.3));\n",
              "      fill: #FFFFFF;\n",
              "    }\n",
              "  </style>\n",
              "\n",
              "    <script>\n",
              "      const buttonEl =\n",
              "        document.querySelector('#df-8e51906d-0bdd-4d4e-9b4a-7f20f620a7b7 button.colab-df-convert');\n",
              "      buttonEl.style.display =\n",
              "        google.colab.kernel.accessAllowed ? 'block' : 'none';\n",
              "\n",
              "      async function convertToInteractive(key) {\n",
              "        const element = document.querySelector('#df-8e51906d-0bdd-4d4e-9b4a-7f20f620a7b7');\n",
              "        const dataTable =\n",
              "          await google.colab.kernel.invokeFunction('convertToInteractive',\n",
              "                                                    [key], {});\n",
              "        if (!dataTable) return;\n",
              "\n",
              "        const docLinkHtml = 'Like what you see? Visit the ' +\n",
              "          '<a target=\"_blank\" href=https://colab.research.google.com/notebooks/data_table.ipynb>data table notebook</a>'\n",
              "          + ' to learn more about interactive tables.';\n",
              "        element.innerHTML = '';\n",
              "        dataTable['output_type'] = 'display_data';\n",
              "        await google.colab.output.renderOutput(dataTable, element);\n",
              "        const docLink = document.createElement('div');\n",
              "        docLink.innerHTML = docLinkHtml;\n",
              "        element.appendChild(docLink);\n",
              "      }\n",
              "    </script>\n",
              "  </div>\n",
              "\n",
              "\n",
              "<div id=\"df-14f2def7-0d8c-471d-a32d-eb576d1bc2b9\">\n",
              "  <button class=\"colab-df-quickchart\" onclick=\"quickchart('df-14f2def7-0d8c-471d-a32d-eb576d1bc2b9')\"\n",
              "            title=\"Suggest charts\"\n",
              "            style=\"display:none;\">\n",
              "\n",
              "<svg xmlns=\"http://www.w3.org/2000/svg\" height=\"24px\"viewBox=\"0 0 24 24\"\n",
              "     width=\"24px\">\n",
              "    <g>\n",
              "        <path d=\"M19 3H5c-1.1 0-2 .9-2 2v14c0 1.1.9 2 2 2h14c1.1 0 2-.9 2-2V5c0-1.1-.9-2-2-2zM9 17H7v-7h2v7zm4 0h-2V7h2v10zm4 0h-2v-4h2v4z\"/>\n",
              "    </g>\n",
              "</svg>\n",
              "  </button>\n",
              "\n",
              "<style>\n",
              "  .colab-df-quickchart {\n",
              "      --bg-color: #E8F0FE;\n",
              "      --fill-color: #1967D2;\n",
              "      --hover-bg-color: #E2EBFA;\n",
              "      --hover-fill-color: #174EA6;\n",
              "      --disabled-fill-color: #AAA;\n",
              "      --disabled-bg-color: #DDD;\n",
              "  }\n",
              "\n",
              "  [theme=dark] .colab-df-quickchart {\n",
              "      --bg-color: #3B4455;\n",
              "      --fill-color: #D2E3FC;\n",
              "      --hover-bg-color: #434B5C;\n",
              "      --hover-fill-color: #FFFFFF;\n",
              "      --disabled-bg-color: #3B4455;\n",
              "      --disabled-fill-color: #666;\n",
              "  }\n",
              "\n",
              "  .colab-df-quickchart {\n",
              "    background-color: var(--bg-color);\n",
              "    border: none;\n",
              "    border-radius: 50%;\n",
              "    cursor: pointer;\n",
              "    display: none;\n",
              "    fill: var(--fill-color);\n",
              "    height: 32px;\n",
              "    padding: 0;\n",
              "    width: 32px;\n",
              "  }\n",
              "\n",
              "  .colab-df-quickchart:hover {\n",
              "    background-color: var(--hover-bg-color);\n",
              "    box-shadow: 0 1px 2px rgba(60, 64, 67, 0.3), 0 1px 3px 1px rgba(60, 64, 67, 0.15);\n",
              "    fill: var(--button-hover-fill-color);\n",
              "  }\n",
              "\n",
              "  .colab-df-quickchart-complete:disabled,\n",
              "  .colab-df-quickchart-complete:disabled:hover {\n",
              "    background-color: var(--disabled-bg-color);\n",
              "    fill: var(--disabled-fill-color);\n",
              "    box-shadow: none;\n",
              "  }\n",
              "\n",
              "  .colab-df-spinner {\n",
              "    border: 2px solid var(--fill-color);\n",
              "    border-color: transparent;\n",
              "    border-bottom-color: var(--fill-color);\n",
              "    animation:\n",
              "      spin 1s steps(1) infinite;\n",
              "  }\n",
              "\n",
              "  @keyframes spin {\n",
              "    0% {\n",
              "      border-color: transparent;\n",
              "      border-bottom-color: var(--fill-color);\n",
              "      border-left-color: var(--fill-color);\n",
              "    }\n",
              "    20% {\n",
              "      border-color: transparent;\n",
              "      border-left-color: var(--fill-color);\n",
              "      border-top-color: var(--fill-color);\n",
              "    }\n",
              "    30% {\n",
              "      border-color: transparent;\n",
              "      border-left-color: var(--fill-color);\n",
              "      border-top-color: var(--fill-color);\n",
              "      border-right-color: var(--fill-color);\n",
              "    }\n",
              "    40% {\n",
              "      border-color: transparent;\n",
              "      border-right-color: var(--fill-color);\n",
              "      border-top-color: var(--fill-color);\n",
              "    }\n",
              "    60% {\n",
              "      border-color: transparent;\n",
              "      border-right-color: var(--fill-color);\n",
              "    }\n",
              "    80% {\n",
              "      border-color: transparent;\n",
              "      border-right-color: var(--fill-color);\n",
              "      border-bottom-color: var(--fill-color);\n",
              "    }\n",
              "    90% {\n",
              "      border-color: transparent;\n",
              "      border-bottom-color: var(--fill-color);\n",
              "    }\n",
              "  }\n",
              "</style>\n",
              "\n",
              "  <script>\n",
              "    async function quickchart(key) {\n",
              "      const quickchartButtonEl =\n",
              "        document.querySelector('#' + key + ' button');\n",
              "      quickchartButtonEl.disabled = true;  // To prevent multiple clicks.\n",
              "      quickchartButtonEl.classList.add('colab-df-spinner');\n",
              "      try {\n",
              "        const charts = await google.colab.kernel.invokeFunction(\n",
              "            'suggestCharts', [key], {});\n",
              "      } catch (error) {\n",
              "        console.error('Error during call to suggestCharts:', error);\n",
              "      }\n",
              "      quickchartButtonEl.classList.remove('colab-df-spinner');\n",
              "      quickchartButtonEl.classList.add('colab-df-quickchart-complete');\n",
              "    }\n",
              "    (() => {\n",
              "      let quickchartButtonEl =\n",
              "        document.querySelector('#df-14f2def7-0d8c-471d-a32d-eb576d1bc2b9 button');\n",
              "      quickchartButtonEl.style.display =\n",
              "        google.colab.kernel.accessAllowed ? 'block' : 'none';\n",
              "    })();\n",
              "  </script>\n",
              "</div>\n",
              "\n",
              "    </div>\n",
              "  </div>\n"
            ],
            "application/vnd.google.colaboratory.intrinsic+json": {
              "type": "dataframe",
              "variable_name": "df_train_ben"
            }
          },
          "metadata": {},
          "execution_count": 43
        }
      ]
    },
    {
      "cell_type": "code",
      "source": [
        "#beginning of data exploration, statistics on numerical columns, data types, dataframe shape"
      ],
      "metadata": {
        "id": "TXC5hZVDGJUf"
      },
      "execution_count": 44,
      "outputs": []
    },
    {
      "cell_type": "code",
      "source": [
        "df_train_ben.describe()"
      ],
      "metadata": {
        "colab": {
          "base_uri": "https://localhost:8080/",
          "height": 349
        },
        "id": "qJ0uzDPI3sew",
        "outputId": "138aa3da-7168-4949-f607-b149f293643f"
      },
      "execution_count": 45,
      "outputs": [
        {
          "output_type": "execute_result",
          "data": {
            "text/plain": [
              "              Gender           Race          State         County  \\\n",
              "count  138556.000000  138556.000000  138556.000000  138556.000000   \n",
              "mean        1.570932       1.254511      25.666734     374.424745   \n",
              "std         0.494945       0.717007      15.223443     266.277581   \n",
              "min         1.000000       1.000000       1.000000       0.000000   \n",
              "25%         1.000000       1.000000      11.000000     141.000000   \n",
              "50%         2.000000       1.000000      25.000000     340.000000   \n",
              "75%         2.000000       1.000000      39.000000     570.000000   \n",
              "max         2.000000       5.000000      54.000000     999.000000   \n",
              "\n",
              "       NoOfMonths_PartACov  NoOfMonths_PartBCov  ChronicCond_Alzheimer  \\\n",
              "count        138556.000000        138556.000000          138556.000000   \n",
              "mean             11.907727            11.910145               1.667817   \n",
              "std               1.032332             0.936893               0.470998   \n",
              "min               0.000000             0.000000               1.000000   \n",
              "25%              12.000000            12.000000               1.000000   \n",
              "50%              12.000000            12.000000               2.000000   \n",
              "75%              12.000000            12.000000               2.000000   \n",
              "max              12.000000            12.000000               2.000000   \n",
              "\n",
              "       ChronicCond_Heartfailure  ChronicCond_KidneyDisease  \\\n",
              "count             138556.000000              138556.000000   \n",
              "mean                   1.506322                   1.687643   \n",
              "std                    0.499962                   0.463456   \n",
              "min                    1.000000                   1.000000   \n",
              "25%                    1.000000                   1.000000   \n",
              "50%                    2.000000                   2.000000   \n",
              "75%                    2.000000                   2.000000   \n",
              "max                    2.000000                   2.000000   \n",
              "\n",
              "       ChronicCond_Cancer  ...  ChronicCond_Depression  ChronicCond_Diabetes  \\\n",
              "count       138556.000000  ...           138556.000000         138556.000000   \n",
              "mean             1.880041  ...                1.644476              1.398142   \n",
              "std              0.324914  ...                0.478674              0.489517   \n",
              "min              1.000000  ...                1.000000              1.000000   \n",
              "25%              2.000000  ...                1.000000              1.000000   \n",
              "50%              2.000000  ...                2.000000              1.000000   \n",
              "75%              2.000000  ...                2.000000              2.000000   \n",
              "max              2.000000  ...                2.000000              2.000000   \n",
              "\n",
              "       ChronicCond_IschemicHeart  ChronicCond_Osteoporasis  \\\n",
              "count              138556.000000             138556.000000   \n",
              "mean                    1.324143                  1.725317   \n",
              "std                     0.468056                  0.446356   \n",
              "min                     1.000000                  1.000000   \n",
              "25%                     1.000000                  1.000000   \n",
              "50%                     1.000000                  2.000000   \n",
              "75%                     2.000000                  2.000000   \n",
              "max                     2.000000                  2.000000   \n",
              "\n",
              "       ChronicCond_rheumatoidarthritis  ChronicCond_stroke  \\\n",
              "count                    138556.000000       138556.000000   \n",
              "mean                          1.743180            1.920942   \n",
              "std                           0.436881            0.269831   \n",
              "min                           1.000000            1.000000   \n",
              "25%                           1.000000            2.000000   \n",
              "50%                           2.000000            2.000000   \n",
              "75%                           2.000000            2.000000   \n",
              "max                           2.000000            2.000000   \n",
              "\n",
              "       IPAnnualReimbursementAmt  IPAnnualDeductibleAmt  \\\n",
              "count             138556.000000          138556.000000   \n",
              "mean                3660.346502             399.847296   \n",
              "std                 9568.621827             956.175202   \n",
              "min                -8000.000000               0.000000   \n",
              "25%                    0.000000               0.000000   \n",
              "50%                    0.000000               0.000000   \n",
              "75%                 2280.000000            1068.000000   \n",
              "max               161470.000000           38272.000000   \n",
              "\n",
              "       OPAnnualReimbursementAmt  OPAnnualDeductibleAmt  \n",
              "count             138556.000000          138556.000000  \n",
              "mean                1298.219348             377.718258  \n",
              "std                 2493.901134             645.530187  \n",
              "min                  -70.000000               0.000000  \n",
              "25%                  170.000000              40.000000  \n",
              "50%                  570.000000             170.000000  \n",
              "75%                 1500.000000             460.000000  \n",
              "max               102960.000000           13840.000000  \n",
              "\n",
              "[8 rows x 21 columns]"
            ],
            "text/html": [
              "\n",
              "  <div id=\"df-621d5c2b-c35d-4523-bc2b-3c9ba73e2600\" class=\"colab-df-container\">\n",
              "    <div>\n",
              "<style scoped>\n",
              "    .dataframe tbody tr th:only-of-type {\n",
              "        vertical-align: middle;\n",
              "    }\n",
              "\n",
              "    .dataframe tbody tr th {\n",
              "        vertical-align: top;\n",
              "    }\n",
              "\n",
              "    .dataframe thead th {\n",
              "        text-align: right;\n",
              "    }\n",
              "</style>\n",
              "<table border=\"1\" class=\"dataframe\">\n",
              "  <thead>\n",
              "    <tr style=\"text-align: right;\">\n",
              "      <th></th>\n",
              "      <th>Gender</th>\n",
              "      <th>Race</th>\n",
              "      <th>State</th>\n",
              "      <th>County</th>\n",
              "      <th>NoOfMonths_PartACov</th>\n",
              "      <th>NoOfMonths_PartBCov</th>\n",
              "      <th>ChronicCond_Alzheimer</th>\n",
              "      <th>ChronicCond_Heartfailure</th>\n",
              "      <th>ChronicCond_KidneyDisease</th>\n",
              "      <th>ChronicCond_Cancer</th>\n",
              "      <th>...</th>\n",
              "      <th>ChronicCond_Depression</th>\n",
              "      <th>ChronicCond_Diabetes</th>\n",
              "      <th>ChronicCond_IschemicHeart</th>\n",
              "      <th>ChronicCond_Osteoporasis</th>\n",
              "      <th>ChronicCond_rheumatoidarthritis</th>\n",
              "      <th>ChronicCond_stroke</th>\n",
              "      <th>IPAnnualReimbursementAmt</th>\n",
              "      <th>IPAnnualDeductibleAmt</th>\n",
              "      <th>OPAnnualReimbursementAmt</th>\n",
              "      <th>OPAnnualDeductibleAmt</th>\n",
              "    </tr>\n",
              "  </thead>\n",
              "  <tbody>\n",
              "    <tr>\n",
              "      <th>count</th>\n",
              "      <td>138556.000000</td>\n",
              "      <td>138556.000000</td>\n",
              "      <td>138556.000000</td>\n",
              "      <td>138556.000000</td>\n",
              "      <td>138556.000000</td>\n",
              "      <td>138556.000000</td>\n",
              "      <td>138556.000000</td>\n",
              "      <td>138556.000000</td>\n",
              "      <td>138556.000000</td>\n",
              "      <td>138556.000000</td>\n",
              "      <td>...</td>\n",
              "      <td>138556.000000</td>\n",
              "      <td>138556.000000</td>\n",
              "      <td>138556.000000</td>\n",
              "      <td>138556.000000</td>\n",
              "      <td>138556.000000</td>\n",
              "      <td>138556.000000</td>\n",
              "      <td>138556.000000</td>\n",
              "      <td>138556.000000</td>\n",
              "      <td>138556.000000</td>\n",
              "      <td>138556.000000</td>\n",
              "    </tr>\n",
              "    <tr>\n",
              "      <th>mean</th>\n",
              "      <td>1.570932</td>\n",
              "      <td>1.254511</td>\n",
              "      <td>25.666734</td>\n",
              "      <td>374.424745</td>\n",
              "      <td>11.907727</td>\n",
              "      <td>11.910145</td>\n",
              "      <td>1.667817</td>\n",
              "      <td>1.506322</td>\n",
              "      <td>1.687643</td>\n",
              "      <td>1.880041</td>\n",
              "      <td>...</td>\n",
              "      <td>1.644476</td>\n",
              "      <td>1.398142</td>\n",
              "      <td>1.324143</td>\n",
              "      <td>1.725317</td>\n",
              "      <td>1.743180</td>\n",
              "      <td>1.920942</td>\n",
              "      <td>3660.346502</td>\n",
              "      <td>399.847296</td>\n",
              "      <td>1298.219348</td>\n",
              "      <td>377.718258</td>\n",
              "    </tr>\n",
              "    <tr>\n",
              "      <th>std</th>\n",
              "      <td>0.494945</td>\n",
              "      <td>0.717007</td>\n",
              "      <td>15.223443</td>\n",
              "      <td>266.277581</td>\n",
              "      <td>1.032332</td>\n",
              "      <td>0.936893</td>\n",
              "      <td>0.470998</td>\n",
              "      <td>0.499962</td>\n",
              "      <td>0.463456</td>\n",
              "      <td>0.324914</td>\n",
              "      <td>...</td>\n",
              "      <td>0.478674</td>\n",
              "      <td>0.489517</td>\n",
              "      <td>0.468056</td>\n",
              "      <td>0.446356</td>\n",
              "      <td>0.436881</td>\n",
              "      <td>0.269831</td>\n",
              "      <td>9568.621827</td>\n",
              "      <td>956.175202</td>\n",
              "      <td>2493.901134</td>\n",
              "      <td>645.530187</td>\n",
              "    </tr>\n",
              "    <tr>\n",
              "      <th>min</th>\n",
              "      <td>1.000000</td>\n",
              "      <td>1.000000</td>\n",
              "      <td>1.000000</td>\n",
              "      <td>0.000000</td>\n",
              "      <td>0.000000</td>\n",
              "      <td>0.000000</td>\n",
              "      <td>1.000000</td>\n",
              "      <td>1.000000</td>\n",
              "      <td>1.000000</td>\n",
              "      <td>1.000000</td>\n",
              "      <td>...</td>\n",
              "      <td>1.000000</td>\n",
              "      <td>1.000000</td>\n",
              "      <td>1.000000</td>\n",
              "      <td>1.000000</td>\n",
              "      <td>1.000000</td>\n",
              "      <td>1.000000</td>\n",
              "      <td>-8000.000000</td>\n",
              "      <td>0.000000</td>\n",
              "      <td>-70.000000</td>\n",
              "      <td>0.000000</td>\n",
              "    </tr>\n",
              "    <tr>\n",
              "      <th>25%</th>\n",
              "      <td>1.000000</td>\n",
              "      <td>1.000000</td>\n",
              "      <td>11.000000</td>\n",
              "      <td>141.000000</td>\n",
              "      <td>12.000000</td>\n",
              "      <td>12.000000</td>\n",
              "      <td>1.000000</td>\n",
              "      <td>1.000000</td>\n",
              "      <td>1.000000</td>\n",
              "      <td>2.000000</td>\n",
              "      <td>...</td>\n",
              "      <td>1.000000</td>\n",
              "      <td>1.000000</td>\n",
              "      <td>1.000000</td>\n",
              "      <td>1.000000</td>\n",
              "      <td>1.000000</td>\n",
              "      <td>2.000000</td>\n",
              "      <td>0.000000</td>\n",
              "      <td>0.000000</td>\n",
              "      <td>170.000000</td>\n",
              "      <td>40.000000</td>\n",
              "    </tr>\n",
              "    <tr>\n",
              "      <th>50%</th>\n",
              "      <td>2.000000</td>\n",
              "      <td>1.000000</td>\n",
              "      <td>25.000000</td>\n",
              "      <td>340.000000</td>\n",
              "      <td>12.000000</td>\n",
              "      <td>12.000000</td>\n",
              "      <td>2.000000</td>\n",
              "      <td>2.000000</td>\n",
              "      <td>2.000000</td>\n",
              "      <td>2.000000</td>\n",
              "      <td>...</td>\n",
              "      <td>2.000000</td>\n",
              "      <td>1.000000</td>\n",
              "      <td>1.000000</td>\n",
              "      <td>2.000000</td>\n",
              "      <td>2.000000</td>\n",
              "      <td>2.000000</td>\n",
              "      <td>0.000000</td>\n",
              "      <td>0.000000</td>\n",
              "      <td>570.000000</td>\n",
              "      <td>170.000000</td>\n",
              "    </tr>\n",
              "    <tr>\n",
              "      <th>75%</th>\n",
              "      <td>2.000000</td>\n",
              "      <td>1.000000</td>\n",
              "      <td>39.000000</td>\n",
              "      <td>570.000000</td>\n",
              "      <td>12.000000</td>\n",
              "      <td>12.000000</td>\n",
              "      <td>2.000000</td>\n",
              "      <td>2.000000</td>\n",
              "      <td>2.000000</td>\n",
              "      <td>2.000000</td>\n",
              "      <td>...</td>\n",
              "      <td>2.000000</td>\n",
              "      <td>2.000000</td>\n",
              "      <td>2.000000</td>\n",
              "      <td>2.000000</td>\n",
              "      <td>2.000000</td>\n",
              "      <td>2.000000</td>\n",
              "      <td>2280.000000</td>\n",
              "      <td>1068.000000</td>\n",
              "      <td>1500.000000</td>\n",
              "      <td>460.000000</td>\n",
              "    </tr>\n",
              "    <tr>\n",
              "      <th>max</th>\n",
              "      <td>2.000000</td>\n",
              "      <td>5.000000</td>\n",
              "      <td>54.000000</td>\n",
              "      <td>999.000000</td>\n",
              "      <td>12.000000</td>\n",
              "      <td>12.000000</td>\n",
              "      <td>2.000000</td>\n",
              "      <td>2.000000</td>\n",
              "      <td>2.000000</td>\n",
              "      <td>2.000000</td>\n",
              "      <td>...</td>\n",
              "      <td>2.000000</td>\n",
              "      <td>2.000000</td>\n",
              "      <td>2.000000</td>\n",
              "      <td>2.000000</td>\n",
              "      <td>2.000000</td>\n",
              "      <td>2.000000</td>\n",
              "      <td>161470.000000</td>\n",
              "      <td>38272.000000</td>\n",
              "      <td>102960.000000</td>\n",
              "      <td>13840.000000</td>\n",
              "    </tr>\n",
              "  </tbody>\n",
              "</table>\n",
              "<p>8 rows × 21 columns</p>\n",
              "</div>\n",
              "    <div class=\"colab-df-buttons\">\n",
              "\n",
              "  <div class=\"colab-df-container\">\n",
              "    <button class=\"colab-df-convert\" onclick=\"convertToInteractive('df-621d5c2b-c35d-4523-bc2b-3c9ba73e2600')\"\n",
              "            title=\"Convert this dataframe to an interactive table.\"\n",
              "            style=\"display:none;\">\n",
              "\n",
              "  <svg xmlns=\"http://www.w3.org/2000/svg\" height=\"24px\" viewBox=\"0 -960 960 960\">\n",
              "    <path d=\"M120-120v-720h720v720H120Zm60-500h600v-160H180v160Zm220 220h160v-160H400v160Zm0 220h160v-160H400v160ZM180-400h160v-160H180v160Zm440 0h160v-160H620v160ZM180-180h160v-160H180v160Zm440 0h160v-160H620v160Z\"/>\n",
              "  </svg>\n",
              "    </button>\n",
              "\n",
              "  <style>\n",
              "    .colab-df-container {\n",
              "      display:flex;\n",
              "      gap: 12px;\n",
              "    }\n",
              "\n",
              "    .colab-df-convert {\n",
              "      background-color: #E8F0FE;\n",
              "      border: none;\n",
              "      border-radius: 50%;\n",
              "      cursor: pointer;\n",
              "      display: none;\n",
              "      fill: #1967D2;\n",
              "      height: 32px;\n",
              "      padding: 0 0 0 0;\n",
              "      width: 32px;\n",
              "    }\n",
              "\n",
              "    .colab-df-convert:hover {\n",
              "      background-color: #E2EBFA;\n",
              "      box-shadow: 0px 1px 2px rgba(60, 64, 67, 0.3), 0px 1px 3px 1px rgba(60, 64, 67, 0.15);\n",
              "      fill: #174EA6;\n",
              "    }\n",
              "\n",
              "    .colab-df-buttons div {\n",
              "      margin-bottom: 4px;\n",
              "    }\n",
              "\n",
              "    [theme=dark] .colab-df-convert {\n",
              "      background-color: #3B4455;\n",
              "      fill: #D2E3FC;\n",
              "    }\n",
              "\n",
              "    [theme=dark] .colab-df-convert:hover {\n",
              "      background-color: #434B5C;\n",
              "      box-shadow: 0px 1px 3px 1px rgba(0, 0, 0, 0.15);\n",
              "      filter: drop-shadow(0px 1px 2px rgba(0, 0, 0, 0.3));\n",
              "      fill: #FFFFFF;\n",
              "    }\n",
              "  </style>\n",
              "\n",
              "    <script>\n",
              "      const buttonEl =\n",
              "        document.querySelector('#df-621d5c2b-c35d-4523-bc2b-3c9ba73e2600 button.colab-df-convert');\n",
              "      buttonEl.style.display =\n",
              "        google.colab.kernel.accessAllowed ? 'block' : 'none';\n",
              "\n",
              "      async function convertToInteractive(key) {\n",
              "        const element = document.querySelector('#df-621d5c2b-c35d-4523-bc2b-3c9ba73e2600');\n",
              "        const dataTable =\n",
              "          await google.colab.kernel.invokeFunction('convertToInteractive',\n",
              "                                                    [key], {});\n",
              "        if (!dataTable) return;\n",
              "\n",
              "        const docLinkHtml = 'Like what you see? Visit the ' +\n",
              "          '<a target=\"_blank\" href=https://colab.research.google.com/notebooks/data_table.ipynb>data table notebook</a>'\n",
              "          + ' to learn more about interactive tables.';\n",
              "        element.innerHTML = '';\n",
              "        dataTable['output_type'] = 'display_data';\n",
              "        await google.colab.output.renderOutput(dataTable, element);\n",
              "        const docLink = document.createElement('div');\n",
              "        docLink.innerHTML = docLinkHtml;\n",
              "        element.appendChild(docLink);\n",
              "      }\n",
              "    </script>\n",
              "  </div>\n",
              "\n",
              "\n",
              "<div id=\"df-9211060a-7e3e-4adc-ac75-e094f13fd319\">\n",
              "  <button class=\"colab-df-quickchart\" onclick=\"quickchart('df-9211060a-7e3e-4adc-ac75-e094f13fd319')\"\n",
              "            title=\"Suggest charts\"\n",
              "            style=\"display:none;\">\n",
              "\n",
              "<svg xmlns=\"http://www.w3.org/2000/svg\" height=\"24px\"viewBox=\"0 0 24 24\"\n",
              "     width=\"24px\">\n",
              "    <g>\n",
              "        <path d=\"M19 3H5c-1.1 0-2 .9-2 2v14c0 1.1.9 2 2 2h14c1.1 0 2-.9 2-2V5c0-1.1-.9-2-2-2zM9 17H7v-7h2v7zm4 0h-2V7h2v10zm4 0h-2v-4h2v4z\"/>\n",
              "    </g>\n",
              "</svg>\n",
              "  </button>\n",
              "\n",
              "<style>\n",
              "  .colab-df-quickchart {\n",
              "      --bg-color: #E8F0FE;\n",
              "      --fill-color: #1967D2;\n",
              "      --hover-bg-color: #E2EBFA;\n",
              "      --hover-fill-color: #174EA6;\n",
              "      --disabled-fill-color: #AAA;\n",
              "      --disabled-bg-color: #DDD;\n",
              "  }\n",
              "\n",
              "  [theme=dark] .colab-df-quickchart {\n",
              "      --bg-color: #3B4455;\n",
              "      --fill-color: #D2E3FC;\n",
              "      --hover-bg-color: #434B5C;\n",
              "      --hover-fill-color: #FFFFFF;\n",
              "      --disabled-bg-color: #3B4455;\n",
              "      --disabled-fill-color: #666;\n",
              "  }\n",
              "\n",
              "  .colab-df-quickchart {\n",
              "    background-color: var(--bg-color);\n",
              "    border: none;\n",
              "    border-radius: 50%;\n",
              "    cursor: pointer;\n",
              "    display: none;\n",
              "    fill: var(--fill-color);\n",
              "    height: 32px;\n",
              "    padding: 0;\n",
              "    width: 32px;\n",
              "  }\n",
              "\n",
              "  .colab-df-quickchart:hover {\n",
              "    background-color: var(--hover-bg-color);\n",
              "    box-shadow: 0 1px 2px rgba(60, 64, 67, 0.3), 0 1px 3px 1px rgba(60, 64, 67, 0.15);\n",
              "    fill: var(--button-hover-fill-color);\n",
              "  }\n",
              "\n",
              "  .colab-df-quickchart-complete:disabled,\n",
              "  .colab-df-quickchart-complete:disabled:hover {\n",
              "    background-color: var(--disabled-bg-color);\n",
              "    fill: var(--disabled-fill-color);\n",
              "    box-shadow: none;\n",
              "  }\n",
              "\n",
              "  .colab-df-spinner {\n",
              "    border: 2px solid var(--fill-color);\n",
              "    border-color: transparent;\n",
              "    border-bottom-color: var(--fill-color);\n",
              "    animation:\n",
              "      spin 1s steps(1) infinite;\n",
              "  }\n",
              "\n",
              "  @keyframes spin {\n",
              "    0% {\n",
              "      border-color: transparent;\n",
              "      border-bottom-color: var(--fill-color);\n",
              "      border-left-color: var(--fill-color);\n",
              "    }\n",
              "    20% {\n",
              "      border-color: transparent;\n",
              "      border-left-color: var(--fill-color);\n",
              "      border-top-color: var(--fill-color);\n",
              "    }\n",
              "    30% {\n",
              "      border-color: transparent;\n",
              "      border-left-color: var(--fill-color);\n",
              "      border-top-color: var(--fill-color);\n",
              "      border-right-color: var(--fill-color);\n",
              "    }\n",
              "    40% {\n",
              "      border-color: transparent;\n",
              "      border-right-color: var(--fill-color);\n",
              "      border-top-color: var(--fill-color);\n",
              "    }\n",
              "    60% {\n",
              "      border-color: transparent;\n",
              "      border-right-color: var(--fill-color);\n",
              "    }\n",
              "    80% {\n",
              "      border-color: transparent;\n",
              "      border-right-color: var(--fill-color);\n",
              "      border-bottom-color: var(--fill-color);\n",
              "    }\n",
              "    90% {\n",
              "      border-color: transparent;\n",
              "      border-bottom-color: var(--fill-color);\n",
              "    }\n",
              "  }\n",
              "</style>\n",
              "\n",
              "  <script>\n",
              "    async function quickchart(key) {\n",
              "      const quickchartButtonEl =\n",
              "        document.querySelector('#' + key + ' button');\n",
              "      quickchartButtonEl.disabled = true;  // To prevent multiple clicks.\n",
              "      quickchartButtonEl.classList.add('colab-df-spinner');\n",
              "      try {\n",
              "        const charts = await google.colab.kernel.invokeFunction(\n",
              "            'suggestCharts', [key], {});\n",
              "      } catch (error) {\n",
              "        console.error('Error during call to suggestCharts:', error);\n",
              "      }\n",
              "      quickchartButtonEl.classList.remove('colab-df-spinner');\n",
              "      quickchartButtonEl.classList.add('colab-df-quickchart-complete');\n",
              "    }\n",
              "    (() => {\n",
              "      let quickchartButtonEl =\n",
              "        document.querySelector('#df-9211060a-7e3e-4adc-ac75-e094f13fd319 button');\n",
              "      quickchartButtonEl.style.display =\n",
              "        google.colab.kernel.accessAllowed ? 'block' : 'none';\n",
              "    })();\n",
              "  </script>\n",
              "</div>\n",
              "\n",
              "    </div>\n",
              "  </div>\n"
            ],
            "application/vnd.google.colaboratory.intrinsic+json": {
              "type": "dataframe"
            }
          },
          "metadata": {},
          "execution_count": 45
        }
      ]
    },
    {
      "cell_type": "code",
      "source": [
        "df_train_ben.dtypes"
      ],
      "metadata": {
        "colab": {
          "base_uri": "https://localhost:8080/"
        },
        "id": "VIZBWeufqzDb",
        "outputId": "f1acc380-c230-474d-8bd9-bfbf3cecae59"
      },
      "execution_count": 46,
      "outputs": [
        {
          "output_type": "execute_result",
          "data": {
            "text/plain": [
              "BeneID                             object\n",
              "DOB                                object\n",
              "DOD                                object\n",
              "Gender                              int64\n",
              "Race                                int64\n",
              "RenalDiseaseIndicator              object\n",
              "State                               int64\n",
              "County                              int64\n",
              "NoOfMonths_PartACov                 int64\n",
              "NoOfMonths_PartBCov                 int64\n",
              "ChronicCond_Alzheimer               int64\n",
              "ChronicCond_Heartfailure            int64\n",
              "ChronicCond_KidneyDisease           int64\n",
              "ChronicCond_Cancer                  int64\n",
              "ChronicCond_ObstrPulmonary          int64\n",
              "ChronicCond_Depression              int64\n",
              "ChronicCond_Diabetes                int64\n",
              "ChronicCond_IschemicHeart           int64\n",
              "ChronicCond_Osteoporasis            int64\n",
              "ChronicCond_rheumatoidarthritis     int64\n",
              "ChronicCond_stroke                  int64\n",
              "IPAnnualReimbursementAmt            int64\n",
              "IPAnnualDeductibleAmt               int64\n",
              "OPAnnualReimbursementAmt            int64\n",
              "OPAnnualDeductibleAmt               int64\n",
              "dtype: object"
            ]
          },
          "metadata": {},
          "execution_count": 46
        }
      ]
    },
    {
      "cell_type": "code",
      "source": [
        "df_train_ben.shape"
      ],
      "metadata": {
        "colab": {
          "base_uri": "https://localhost:8080/"
        },
        "id": "QyqtRA_Itp8u",
        "outputId": "451c89bb-64ce-40e4-a59b-f1c77c037bf2"
      },
      "execution_count": 47,
      "outputs": [
        {
          "output_type": "execute_result",
          "data": {
            "text/plain": [
              "(138556, 25)"
            ]
          },
          "metadata": {},
          "execution_count": 47
        }
      ]
    },
    {
      "cell_type": "code",
      "source": [
        "#investigating data type of renal disease indicator\n",
        "df_train_ben['RenalDiseaseIndicator'].unique()"
      ],
      "metadata": {
        "colab": {
          "base_uri": "https://localhost:8080/"
        },
        "id": "zPhVf_YbdYyO",
        "outputId": "36039ae3-b489-4c26-c546-2e9ec0c5eed1"
      },
      "execution_count": 48,
      "outputs": [
        {
          "output_type": "execute_result",
          "data": {
            "text/plain": [
              "array(['0', 'Y'], dtype=object)"
            ]
          },
          "metadata": {},
          "execution_count": 48
        }
      ]
    },
    {
      "cell_type": "code",
      "source": [
        "df_train_ben['RenalDiseaseIndicator'].replace('Y',1,inplace=True)"
      ],
      "metadata": {
        "id": "KQQKJb-UdkGH"
      },
      "execution_count": 49,
      "outputs": []
    },
    {
      "cell_type": "code",
      "source": [
        "df_train_ben['RenalDiseaseIndicator']=df_train_ben['RenalDiseaseIndicator'].astype('int64')"
      ],
      "metadata": {
        "id": "Qwzk1FKHeCWk"
      },
      "execution_count": 50,
      "outputs": []
    },
    {
      "cell_type": "code",
      "source": [
        "df_train_ben['RenalDiseaseIndicator'].unique()"
      ],
      "metadata": {
        "colab": {
          "base_uri": "https://localhost:8080/"
        },
        "id": "zm23sW5LeQGN",
        "outputId": "d78bed93-2671-4c57-91b5-a84b2275831c"
      },
      "execution_count": 51,
      "outputs": [
        {
          "output_type": "execute_result",
          "data": {
            "text/plain": [
              "array([0, 1])"
            ]
          },
          "metadata": {},
          "execution_count": 51
        }
      ]
    },
    {
      "cell_type": "code",
      "source": [
        "#calling the .head() function above shows some nulls in the column DOD. Checking for other nulls.\n",
        "sns.heatmap(df_train_ben.isnull(),yticklabels=False,cbar=False,cmap='Blues');"
      ],
      "metadata": {
        "colab": {
          "base_uri": "https://localhost:8080/",
          "height": 647
        },
        "id": "kKNYxBxfGZCB",
        "outputId": "a610684e-1c55-4443-f51c-379cbba440e6"
      },
      "execution_count": 52,
      "outputs": [
        {
          "output_type": "display_data",
          "data": {
            "text/plain": [
              "<Figure size 640x480 with 1 Axes>"
            ],
            "image/png": "[encoded data removed]"
          },
          "metadata": {}
        }
      ]
    },
    {
      "cell_type": "code",
      "source": [
        "#checking the non-null values in the DOD column\n",
        "df_train_ben['DOD'].unique()"
      ],
      "metadata": {
        "colab": {
          "base_uri": "https://localhost:8080/"
        },
        "id": "2ly3lC6eHM-x",
        "outputId": "1793285d-766e-4b75-f498-2b45bc553811"
      },
      "execution_count": 53,
      "outputs": [
        {
          "output_type": "execute_result",
          "data": {
            "text/plain": [
              "array([nan, '2009-12-01', '2009-09-01', '2009-05-01', '2009-07-01',\n",
              "       '2009-08-01', '2009-10-01', '2009-06-01', '2009-04-01',\n",
              "       '2009-02-01', '2009-11-01', '2009-03-01'], dtype=object)"
            ]
          },
          "metadata": {},
          "execution_count": 53
        }
      ]
    },
    {
      "cell_type": "code",
      "source": [
        "#the data above looks like it's only by month, no day appears to be recorded for date of death. Checking DOB to see if that is intentional\n",
        "df_train_ben['DOB'].unique()"
      ],
      "metadata": {
        "colab": {
          "base_uri": "https://localhost:8080/"
        },
        "id": "X934mu5mHfzU",
        "outputId": "9327018c-548f-4438-a1a7-3be211fb2403"
      },
      "execution_count": 54,
      "outputs": [
        {
          "output_type": "execute_result",
          "data": {
            "text/plain": [
              "array(['1943-01-01', '1936-09-01', '1936-08-01', '1922-07-01',\n",
              "       '1935-09-01', '1976-09-01', '1940-09-01', '1934-02-01',\n",
              "       '1929-06-01', '1936-07-01', '1914-03-01', '1934-05-01',\n",
              "       '1927-12-01', '1938-04-01', '1936-03-01', '1919-09-01',\n",
              "       '1940-06-01', '1939-10-01', '1924-05-01', '1939-01-01',\n",
              "       '1958-08-01', '1931-02-01', '1942-07-01', '1938-01-01',\n",
              "       '1940-03-01', '1941-12-01', '1928-12-01', '1944-12-01',\n",
              "       '1937-10-01', '1912-07-01', '1946-03-01', '1965-04-01',\n",
              "       '1940-04-01', '1919-12-01', '1959-11-01', '1922-10-01',\n",
              "       '1919-01-01', '1953-12-01', '1919-10-01', '1911-01-01',\n",
              "       '1927-01-01', '1922-12-01', '1938-07-01', '1963-10-01',\n",
              "       '1932-02-01', '1929-05-01', '1958-07-01', '1957-11-01',\n",
              "       '1939-12-01', '1931-01-01', '1933-02-01', '1948-12-01',\n",
              "       '1930-05-01', '1924-12-01', '1943-10-01', '1944-09-01',\n",
              "       '1925-07-01', '1964-05-01', '1965-10-01', '1920-04-01',\n",
              "       '1948-11-01', '1954-11-01', '1936-10-01', '1933-04-01',\n",
              "       '1925-09-01', '1942-08-01', '1938-03-01', '1929-03-01',\n",
              "       '1942-04-01', '1963-01-01', '1933-08-01', '1932-03-01',\n",
              "       '1928-01-01', '1963-05-01', '1939-03-01', '1927-02-01',\n",
              "       '1937-01-01', '1926-10-01', '1936-05-01', '1943-04-01',\n",
              "       '1922-05-01', '1911-06-01', '1925-10-01', '1928-02-01',\n",
              "       '1941-04-01', '1925-12-01', '1931-07-01', '1934-04-01',\n",
              "       '1943-09-01', '1931-09-01', '1962-01-01', '1943-03-01',\n",
              "       '1940-05-01', '1920-09-01', '1942-05-01', '1919-04-01',\n",
              "       '1934-12-01', '1926-05-01', '1941-11-01', '1963-11-01',\n",
              "       '1960-12-01', '1938-02-01', '1955-12-01', '1968-01-01',\n",
              "       '1933-01-01', '1959-07-01', '1926-08-01', '1956-12-01',\n",
              "       '1967-04-01', '1913-02-01', '1928-04-01', '1938-11-01',\n",
              "       '1937-05-01', '1920-07-01', '1930-12-01', '1958-02-01',\n",
              "       '1948-10-01', '1962-06-01', '1943-12-01', '1934-09-01',\n",
              "       '1909-02-01', '1969-08-01', '1948-04-01', '1917-10-01',\n",
              "       '1934-11-01', '1937-07-01', '1926-11-01', '1978-08-01',\n",
              "       '1921-09-01', '1937-12-01', '1926-02-01', '1938-09-01',\n",
              "       '1932-10-01', '1944-10-01', '1941-10-01', '1941-05-01',\n",
              "       '1947-10-01', '1929-08-01', '1943-02-01', '1936-01-01',\n",
              "       '1923-08-01', '1927-07-01', '1929-11-01', '1939-05-01',\n",
              "       '1950-09-01', '1934-07-01', '1925-08-01', '1927-11-01',\n",
              "       '1921-10-01', '1918-06-01', '1939-08-01', '1935-06-01',\n",
              "       '1956-04-01', '1962-04-01', '1919-02-01', '1941-06-01',\n",
              "       '1951-01-01', '1923-07-01', '1935-03-01', '1931-08-01',\n",
              "       '1935-10-01', '1932-05-01', '1924-09-01', '1939-11-01',\n",
              "       '1939-02-01', '1928-06-01', '1923-09-01', '1915-07-01',\n",
              "       '1930-07-01', '1924-01-01', '1941-07-01', '1919-05-01',\n",
              "       '1931-11-01', '1939-07-01', '1950-03-01', '1925-01-01',\n",
              "       '1932-06-01', '1929-12-01', '1924-03-01', '1939-09-01',\n",
              "       '1937-09-01', '1940-02-01', '1914-07-01', '1930-10-01',\n",
              "       '1938-05-01', '1933-06-01', '1979-04-01', '1934-03-01',\n",
              "       '1920-02-01', '1911-09-01', '1930-06-01', '1937-02-01',\n",
              "       '1935-05-01', '1921-06-01', '1914-09-01', '1936-11-01',\n",
              "       '1928-09-01', '1954-03-01', '1945-10-01', '1940-12-01',\n",
              "       '1926-07-01', '1927-03-01', '1921-03-01', '1953-09-01',\n",
              "       '1914-11-01', '1932-09-01', '1983-05-01', '1933-12-01',\n",
              "       '1943-05-01', '1922-02-01', '1937-04-01', '1921-05-01',\n",
              "       '1964-03-01', '1927-10-01', '1928-10-01', '1947-03-01',\n",
              "       '1942-12-01', '1962-03-01', '1947-07-01', '1934-01-01',\n",
              "       '1980-12-01', '1931-04-01', '1945-11-01', '1954-10-01',\n",
              "       '1960-08-01', '1925-02-01', '1941-02-01', '1934-06-01',\n",
              "       '1943-11-01', '1930-11-01', '1952-07-01', '1923-03-01',\n",
              "       '1921-07-01', '1922-08-01', '1981-03-01', '1937-06-01',\n",
              "       '1950-06-01', '1941-03-01', '1943-08-01', '1966-01-01',\n",
              "       '1962-02-01', '1953-01-01', '1969-10-01', '1948-08-01',\n",
              "       '1953-02-01', '1959-02-01', '1951-03-01', '1935-07-01',\n",
              "       '1929-09-01', '1949-01-01', '1932-12-01', '1924-04-01',\n",
              "       '1940-07-01', '1950-02-01', '1933-11-01', '1915-08-01',\n",
              "       '1923-01-01', '1928-07-01', '1942-06-01', '1940-10-01',\n",
              "       '1954-09-01', '1924-06-01', '1957-06-01', '1935-01-01',\n",
              "       '1968-09-01', '1920-08-01', '1938-10-01', '1932-01-01',\n",
              "       '1961-02-01', '1952-10-01', '1976-05-01', '1942-09-01',\n",
              "       '1923-02-01', '1938-08-01', '1953-11-01', '1948-06-01',\n",
              "       '1913-12-01', '1942-03-01', '1940-08-01', '1951-02-01',\n",
              "       '1931-06-01', '1981-02-01', '1952-11-01', '1936-02-01',\n",
              "       '1949-10-01', '1963-12-01', '1956-03-01', '1919-08-01',\n",
              "       '1926-12-01', '1937-08-01', '1930-09-01', '1938-06-01',\n",
              "       '1926-03-01', '1963-08-01', '1909-11-01', '1933-03-01',\n",
              "       '1920-05-01', '1949-09-01', '1927-06-01', '1943-07-01',\n",
              "       '1921-02-01', '1941-09-01', '1983-09-01', '1921-08-01',\n",
              "       '1934-10-01', '1918-11-01', '1923-12-01', '1936-12-01',\n",
              "       '1926-09-01', '1932-04-01', '1957-10-01', '1921-11-01',\n",
              "       '1929-07-01', '1933-10-01', '1927-08-01', '1921-12-01',\n",
              "       '1936-04-01', '1965-12-01', '1931-03-01', '1916-08-01',\n",
              "       '1912-04-01', '1940-01-01', '1949-11-01', '1962-12-01',\n",
              "       '1928-05-01', '1941-01-01', '1944-02-01', '1955-04-01',\n",
              "       '1922-04-01', '1939-06-01', '1956-11-01', '1923-11-01',\n",
              "       '1949-12-01', '1935-04-01', '1918-02-01', '1956-08-01',\n",
              "       '1931-05-01', '1913-08-01', '1930-08-01', '1945-03-01',\n",
              "       '1925-06-01', '1954-04-01', '1935-08-01', '1924-10-01',\n",
              "       '1960-07-01', '1962-11-01', '1937-11-01', '1930-04-01',\n",
              "       '1965-03-01', '1950-01-01', '1973-08-01', '1920-11-01',\n",
              "       '1940-11-01', '1950-04-01', '1961-10-01', '1958-11-01',\n",
              "       '1948-03-01', '1925-05-01', '1975-03-01', '1958-05-01',\n",
              "       '1927-05-01', '1926-06-01', '1926-01-01', '1947-04-01',\n",
              "       '1917-07-01', '1957-08-01', '1942-10-01', '1942-11-01',\n",
              "       '1942-01-01', '1927-04-01', '1915-03-01', '1933-07-01',\n",
              "       '1929-04-01', '1925-11-01', '1919-11-01', '1914-04-01',\n",
              "       '1983-04-01', '1968-04-01', '1915-10-01', '1956-01-01',\n",
              "       '1911-07-01', '1935-11-01', '1959-04-01', '1910-08-01',\n",
              "       '1935-12-01', '1924-11-01', '1922-03-01', '1920-01-01',\n",
              "       '1930-03-01', '1926-04-01', '1928-11-01', '1960-04-01',\n",
              "       '1934-08-01', '1967-12-01', '1943-06-01', '1955-08-01',\n",
              "       '1975-01-01', '1939-04-01', '1912-02-01', '1970-05-01',\n",
              "       '1973-03-01', '1946-02-01', '1915-02-01', '1980-07-01',\n",
              "       '1918-09-01', '1922-09-01', '1917-01-01', '1932-08-01',\n",
              "       '1944-03-01', '1935-02-01', '1979-09-01', '1923-04-01',\n",
              "       '1929-02-01', '1916-01-01', '1924-07-01', '1947-09-01',\n",
              "       '1909-08-01', '1915-04-01', '1942-02-01', '1970-10-01',\n",
              "       '1965-06-01', '1951-12-01', '1930-01-01', '1933-09-01',\n",
              "       '1929-10-01', '1915-01-01', '1955-11-01', '1936-06-01',\n",
              "       '1946-06-01', '1920-03-01', '1910-06-01', '1963-02-01',\n",
              "       '1971-07-01', '1919-03-01', '1925-04-01', '1977-05-01',\n",
              "       '1925-03-01', '1931-12-01', '1947-12-01', '1953-06-01',\n",
              "       '1973-01-01', '1961-01-01', '1937-03-01', '1918-08-01',\n",
              "       '1973-10-01', '1981-06-01', '1956-07-01', '1931-10-01',\n",
              "       '1970-12-01', '1913-05-01', '1957-02-01', '1967-07-01',\n",
              "       '1973-02-01', '1914-05-01', '1916-04-01', '1951-08-01',\n",
              "       '1977-06-01', '1923-06-01', '1946-05-01', '1948-07-01',\n",
              "       '1978-09-01', '1918-04-01', '1947-01-01', '1914-10-01',\n",
              "       '1916-10-01', '1914-08-01', '1956-10-01', '1913-03-01',\n",
              "       '1911-03-01', '1962-08-01', '1945-08-01', '1967-08-01',\n",
              "       '1914-12-01', '1952-01-01', '1958-01-01', '1913-11-01',\n",
              "       '1977-07-01', '1932-11-01', '1917-02-01', '1947-11-01',\n",
              "       '1963-06-01', '1924-08-01', '1917-04-01', '1955-03-01',\n",
              "       '1929-01-01', '1972-10-01', '1975-04-01', '1960-05-01',\n",
              "       '1928-03-01', '1966-05-01', '1953-05-01', '1955-10-01',\n",
              "       '1958-04-01', '1933-05-01', '1916-06-01', '1948-02-01',\n",
              "       '1912-08-01', '1932-07-01', '1945-09-01', '1941-08-01',\n",
              "       '1921-01-01', '1951-07-01', '1962-05-01', '1917-06-01',\n",
              "       '1967-05-01', '1959-12-01', '1966-03-01', '1923-05-01',\n",
              "       '1913-06-01', '1973-05-01', '1971-05-01', '1967-03-01',\n",
              "       '1956-06-01', '1923-10-01', '1946-08-01', '1964-09-01',\n",
              "       '1962-07-01', '1927-09-01', '1970-04-01', '1917-03-01',\n",
              "       '1972-11-01', '1909-01-01', '1969-05-01', '1952-03-01',\n",
              "       '1916-05-01', '1954-06-01', '1951-04-01', '1913-07-01',\n",
              "       '1972-04-01', '1961-12-01', '1918-03-01', '1956-05-01',\n",
              "       '1922-01-01', '1910-11-01', '1953-10-01', '1955-02-01',\n",
              "       '1945-07-01', '1913-10-01', '1951-06-01', '1970-03-01',\n",
              "       '1911-11-01', '1949-04-01', '1971-06-01', '1947-02-01',\n",
              "       '1921-04-01', '1930-02-01', '1928-08-01', '1977-11-01',\n",
              "       '1916-12-01', '1959-01-01', '1981-11-01', '1968-12-01',\n",
              "       '1950-05-01', '1960-02-01', '1965-11-01', '1922-11-01',\n",
              "       '1912-11-01', '1957-05-01', '1922-06-01', '1919-07-01',\n",
              "       '1910-03-01', '1910-09-01', '1938-12-01', '1952-02-01',\n",
              "       '1920-06-01', '1944-06-01', '1960-03-01', '1946-10-01',\n",
              "       '1924-02-01', '1918-01-01', '1967-02-01', '1959-08-01',\n",
              "       '1966-02-01', '1953-03-01', '1913-09-01', '1914-06-01',\n",
              "       '1961-11-01', '1909-07-01', '1949-06-01', '1959-10-01',\n",
              "       '1951-05-01', '1949-05-01', '1961-05-01', '1982-03-01',\n",
              "       '1950-12-01', '1949-07-01', '1917-09-01', '1982-11-01',\n",
              "       '1950-07-01', '1952-05-01', '1963-04-01', '1948-01-01',\n",
              "       '1980-04-01', '1910-04-01', '1953-04-01', '1910-10-01',\n",
              "       '1920-10-01', '1957-12-01', '1916-09-01', '1950-10-01',\n",
              "       '1944-08-01', '1912-01-01', '1944-11-01', '1962-09-01',\n",
              "       '1961-03-01', '1977-12-01', '1918-07-01', '1954-08-01',\n",
              "       '1974-05-01', '1949-08-01', '1982-04-01', '1956-02-01',\n",
              "       '1968-06-01', '1946-11-01', '1917-08-01', '1944-07-01',\n",
              "       '1971-10-01', '1975-06-01', '1954-01-01', '1959-06-01',\n",
              "       '1916-11-01', '1944-04-01', '1955-09-01', '1961-09-01',\n",
              "       '1954-07-01', '1963-07-01', '1915-12-01', '1952-09-01',\n",
              "       '1970-06-01', '1916-02-01', '1973-06-01', '1961-08-01',\n",
              "       '1975-12-01', '1918-05-01', '1965-07-01', '1982-10-01',\n",
              "       '1966-09-01', '1915-09-01', '1983-01-01', '1960-11-01',\n",
              "       '1972-06-01', '1910-12-01', '1917-11-01', '1909-03-01',\n",
              "       '1955-01-01', '1911-02-01', '1967-11-01', '1910-02-01',\n",
              "       '1954-02-01', '1945-06-01', '1945-05-01', '1961-07-01',\n",
              "       '1964-08-01', '1969-04-01', '1977-08-01', '1971-08-01',\n",
              "       '1960-06-01', '1914-01-01', '1947-08-01', '1946-07-01',\n",
              "       '1912-03-01', '1949-03-01', '1946-12-01', '1910-01-01',\n",
              "       '1969-01-01', '1977-10-01', '1916-03-01', '1911-08-01',\n",
              "       '1957-01-01', '1948-09-01', '1965-09-01', '1976-12-01',\n",
              "       '1912-12-01', '1909-06-01', '1953-07-01', '1960-10-01',\n",
              "       '1950-08-01', '1958-12-01', '1972-01-01', '1964-01-01',\n",
              "       '1950-11-01', '1947-05-01', '1964-06-01', '1964-07-01',\n",
              "       '1911-10-01', '1968-11-01', '1962-10-01', '1958-06-01',\n",
              "       '1915-06-01', '1945-12-01', '1919-06-01', '1909-05-01',\n",
              "       '1920-12-01', '1972-02-01', '1978-02-01', '1958-10-01',\n",
              "       '1976-11-01', '1946-01-01', '1912-05-01', '1955-06-01',\n",
              "       '1911-12-01', '1969-11-01', '1965-08-01', '1909-04-01',\n",
              "       '1944-05-01', '1971-11-01', '1947-06-01', '1909-12-01',\n",
              "       '1957-04-01', '1953-08-01', '1969-12-01', '1974-01-01',\n",
              "       '1952-12-01', '1945-01-01', '1975-10-01', '1974-08-01',\n",
              "       '1914-02-01', '1917-05-01', '1972-12-01', '1969-09-01',\n",
              "       '1973-09-01', '1956-09-01', '1952-08-01', '1946-04-01',\n",
              "       '1961-06-01', '1967-09-01', '1973-04-01', '1978-10-01',\n",
              "       '1970-01-01', '1957-03-01', '1970-02-01', '1959-03-01',\n",
              "       '1983-06-01', '1911-05-01', '1959-09-01', '1972-03-01',\n",
              "       '1964-10-01', '1969-06-01', '1980-06-01', '1917-12-01',\n",
              "       '1910-05-01', '1948-05-01', '1969-03-01', '1909-09-01',\n",
              "       '1980-08-01', '1979-02-01', '1981-08-01', '1965-01-01',\n",
              "       '1973-12-01', '1915-11-01', '1954-12-01', '1955-07-01',\n",
              "       '1951-11-01', '1952-06-01', '1951-09-01', '1959-05-01',\n",
              "       '1968-03-01', '1951-10-01', '1949-02-01', '1972-07-01',\n",
              "       '1974-02-01', '1963-03-01', '1957-07-01', '1970-08-01',\n",
              "       '1979-03-01', '1971-12-01', '1915-05-01', '1912-09-01',\n",
              "       '1966-11-01', '1979-11-01', '1971-03-01', '1958-09-01',\n",
              "       '1974-07-01', '1960-01-01', '1978-06-01', '1980-03-01',\n",
              "       '1913-04-01', '1966-10-01', '1973-07-01', '1970-07-01',\n",
              "       '1969-02-01', '1967-06-01', '1952-04-01', '1967-10-01',\n",
              "       '1964-04-01', '1975-11-01', '1976-03-01', '1972-05-01',\n",
              "       '1945-04-01', '1974-11-01', '1909-10-01', '1978-01-01',\n",
              "       '1968-08-01', '1945-02-01', '1972-09-01', '1912-10-01',\n",
              "       '1981-07-01', '1964-11-01', '1983-12-01', '1946-09-01',\n",
              "       '1963-09-01', '1981-09-01', '1980-02-01', '1977-02-01',\n",
              "       '1969-07-01', '1955-05-01', '1961-04-01', '1944-01-01',\n",
              "       '1960-09-01', '1982-02-01', '1976-07-01', '1918-10-01',\n",
              "       '1958-03-01', '1978-12-01', '1971-04-01', '1974-12-01',\n",
              "       '1974-09-01', '1975-02-01', '1974-06-01', '1912-06-01',\n",
              "       '1916-07-01', '1974-10-01', '1980-01-01', '1970-09-01',\n",
              "       '1971-02-01', '1982-07-01', '1966-04-01', '1964-12-01',\n",
              "       '1957-09-01', '1976-10-01', '1966-07-01', '1913-01-01',\n",
              "       '1976-04-01', '1983-08-01', '1981-12-01', '1977-04-01',\n",
              "       '1918-12-01', '1983-07-01', '1971-09-01', '1965-05-01',\n",
              "       '1954-05-01', '1968-07-01', '1979-06-01', '1965-02-01',\n",
              "       '1968-10-01', '1971-01-01', '1970-11-01', '1911-04-01',\n",
              "       '1979-07-01', '1978-05-01', '1977-09-01', '1972-08-01',\n",
              "       '1976-06-01', '1976-08-01', '1983-03-01', '1910-07-01',\n",
              "       '1979-05-01', '1966-12-01', '1982-12-01', '1975-07-01',\n",
              "       '1978-07-01', '1979-12-01', '1976-01-01', '1983-10-01',\n",
              "       '1981-01-01', '1967-01-01', '1964-02-01', '1979-10-01',\n",
              "       '1981-04-01', '1968-02-01', '1982-05-01', '1982-06-01',\n",
              "       '1982-01-01', '1982-09-01', '1981-05-01', '1980-09-01',\n",
              "       '1968-05-01', '1983-02-01', '1980-11-01', '1979-08-01',\n",
              "       '1966-06-01', '1980-10-01', '1975-05-01', '1966-08-01',\n",
              "       '1983-11-01', '1981-10-01', '1980-05-01', '1977-01-01',\n",
              "       '1977-03-01', '1979-01-01', '1978-11-01', '1973-11-01',\n",
              "       '1976-02-01', '1982-08-01', '1975-08-01', '1978-04-01',\n",
              "       '1975-09-01', '1978-03-01', '1974-03-01', '1974-04-01'],\n",
              "      dtype=object)"
            ]
          },
          "metadata": {},
          "execution_count": 54
        }
      ]
    },
    {
      "cell_type": "code",
      "source": [
        "#only month, so without being able to verify with a SEM, I'll have to assume the null values in the DOD column indicate that patient is still living\n",
        "#the most recent DOD is December, 2009. I'll consider this the date that this dataset was generated, and create an Age column"
      ],
      "metadata": {
        "id": "r4k9Vwm8JMNh"
      },
      "execution_count": 55,
      "outputs": []
    },
    {
      "cell_type": "code",
      "source": [
        "df_train_ben['DOD'].fillna('2009-12-01', inplace=True)"
      ],
      "metadata": {
        "id": "ki21_3--Zl9K"
      },
      "execution_count": 56,
      "outputs": []
    },
    {
      "cell_type": "code",
      "source": [
        "#changing DOD and DOB to datetime data types\n",
        "df_train_ben['DOD'] = pd.to_datetime(df_train_ben['DOD'], format='%Y-%m-%d')\n",
        "df_train_ben['DOB'] = pd.to_datetime(df_train_ben['DOB'], format='%Y-%m-%d')"
      ],
      "metadata": {
        "id": "ENtB_Zg4Jto-"
      },
      "execution_count": 57,
      "outputs": []
    },
    {
      "cell_type": "code",
      "source": [
        "df_train_ben.dtypes"
      ],
      "metadata": {
        "colab": {
          "base_uri": "https://localhost:8080/"
        },
        "id": "CJsrJ5RMecr1",
        "outputId": "41a96b63-6fed-4cc8-aace-9da950ea68ee"
      },
      "execution_count": 74,
      "outputs": [
        {
          "output_type": "execute_result",
          "data": {
            "text/plain": [
              "BeneID                                     object\n",
              "DOB                                datetime64[ns]\n",
              "DOD                                datetime64[ns]\n",
              "Gender                                      int64\n",
              "Race                                        int64\n",
              "RenalDiseaseIndicator                       int64\n",
              "State                                       int64\n",
              "County                                      int64\n",
              "NoOfMonths_PartACov                         int64\n",
              "NoOfMonths_PartBCov                         int64\n",
              "ChronicCond_Alzheimer                       int64\n",
              "ChronicCond_Heartfailure                    int64\n",
              "ChronicCond_KidneyDisease                   int64\n",
              "ChronicCond_Cancer                          int64\n",
              "ChronicCond_ObstrPulmonary                  int64\n",
              "ChronicCond_Depression                      int64\n",
              "ChronicCond_Diabetes                        int64\n",
              "ChronicCond_IschemicHeart                   int64\n",
              "ChronicCond_Osteoporasis                    int64\n",
              "ChronicCond_rheumatoidarthritis             int64\n",
              "ChronicCond_stroke                          int64\n",
              "IPAnnualReimbursementAmt                    int64\n",
              "IPAnnualDeductibleAmt                       int64\n",
              "OPAnnualReimbursementAmt                    int64\n",
              "OPAnnualDeductibleAmt                       int64\n",
              "Age                                         int32\n",
              "dtype: object"
            ]
          },
          "metadata": {},
          "execution_count": 74
        }
      ]
    },
    {
      "cell_type": "code",
      "source": [
        "df_train_ben['Age']= df_train_ben['DOD'].dt.year - df_train_ben['DOB'].dt.year"
      ],
      "metadata": {
        "id": "hpaacNWJZynr"
      },
      "execution_count": 58,
      "outputs": []
    },
    {
      "cell_type": "code",
      "source": [
        "plt.hist(df_train_ben['Age'],edgecolor='k',bins=25)\n",
        "plt.xlabel('Age')\n",
        "plt.ylabel('Claims Count');"
      ],
      "metadata": {
        "colab": {
          "base_uri": "https://localhost:8080/",
          "height": 449
        },
        "id": "dX-j3XTDYPNg",
        "outputId": "de6bcf39-2981-4a38-ad95-da10163b8dbb"
      },
      "execution_count": 59,
      "outputs": [
        {
          "output_type": "display_data",
          "data": {
            "text/plain": [
              "<Figure size 640x480 with 1 Axes>"
            ],
            "image/png": "[encoded data removed]"
          },
          "metadata": {}
        }
      ]
    },
    {
      "cell_type": "code",
      "source": [
        "#exploring some other columns"
      ],
      "metadata": {
        "id": "nM4ZxSYcafiF"
      },
      "execution_count": 60,
      "outputs": []
    },
    {
      "cell_type": "code",
      "source": [
        "df_train_ben['Gender'].unique()"
      ],
      "metadata": {
        "colab": {
          "base_uri": "https://localhost:8080/"
        },
        "id": "v1Xb-4704H2C",
        "outputId": "8f6c32d7-e43a-43f1-809c-9124b644268f"
      },
      "execution_count": 61,
      "outputs": [
        {
          "output_type": "execute_result",
          "data": {
            "text/plain": [
              "array([1, 2])"
            ]
          },
          "metadata": {},
          "execution_count": 61
        }
      ]
    },
    {
      "cell_type": "code",
      "source": [
        "df_train_ben['Race'].unique()"
      ],
      "metadata": {
        "colab": {
          "base_uri": "https://localhost:8080/"
        },
        "id": "TPA5ab3v4VmP",
        "outputId": "db407a3b-81c9-4f90-fc28-bcbce29e9e8c"
      },
      "execution_count": 62,
      "outputs": [
        {
          "output_type": "execute_result",
          "data": {
            "text/plain": [
              "array([1, 2, 3, 5])"
            ]
          },
          "metadata": {},
          "execution_count": 62
        }
      ]
    },
    {
      "cell_type": "code",
      "source": [
        "df_train_ben['State'].unique()"
      ],
      "metadata": {
        "colab": {
          "base_uri": "https://localhost:8080/"
        },
        "id": "h8ay4tGC4XAd",
        "outputId": "5bda7aac-069c-489b-e9b9-1dc7ff200fb5"
      },
      "execution_count": 63,
      "outputs": [
        {
          "output_type": "execute_result",
          "data": {
            "text/plain": [
              "array([39, 52, 24, 23, 45, 15, 44, 41,  1, 14,  7, 13, 34, 31,  5, 49, 46,\n",
              "        6, 38, 10, 26,  3, 20, 33, 18, 27, 51, 29, 42, 36, 11, 12, 30, 19,\n",
              "        4, 25, 17, 16, 32,  2, 21, 50, 22, 54, 28, 43, 35, 37, 47,  8,  9,\n",
              "       53])"
            ]
          },
          "metadata": {},
          "execution_count": 63
        }
      ]
    },
    {
      "cell_type": "code",
      "source": [
        "df_train_ben['County'].unique()"
      ],
      "metadata": {
        "colab": {
          "base_uri": "https://localhost:8080/"
        },
        "id": "10UoGnIi4bXw",
        "outputId": "675247b4-2c48-4001-abd0-a463251c4d97"
      },
      "execution_count": 64,
      "outputs": [
        {
          "output_type": "execute_result",
          "data": {
            "text/plain": [
              "array([230, 280, 590, 270, 680, 810, 610, 140,  30, 360, 982,  10, 780,\n",
              "       400, 120,  50, 470,  20, 892, 200, 170, 500, 710, 760,  90, 130,\n",
              "       141, 150, 700, 390, 620, 260, 930, 734, 250, 510,  60, 563, 570,\n",
              "        40, 340, 100, 290, 660, 350, 770, 180, 460, 580, 430, 880, 690,\n",
              "       310, 550, 190, 490, 600, 220, 790, 990, 370, 420,   0, 980, 480,\n",
              "       450, 960, 160, 800, 410, 520, 380, 991, 110, 540, 910, 240, 440,\n",
              "        70, 860, 640, 870, 560, 650, 830, 330, 820,  25, 451, 320, 530,\n",
              "       831, 950,  80, 921, 940, 630, 720, 989, 331, 840, 758, 421, 722,\n",
              "       730, 561, 750, 791, 947, 551, 801, 953, 411, 681, 300, 970, 757,\n",
              "       241, 210, 988, 890, 756, 221, 843, 581, 702, 999,  11, 711, 670,\n",
              "       328, 943, 981, 591, 754, 986, 431, 194, 885, 740, 900, 871, 641,\n",
              "       653, 911, 879, 992, 622, 291, 812, 562, 976, 920, 311, 288, 752,\n",
              "       811, 850, 191, 461, 821, 223, 792, 984, 611, 882, 794, 891, 962,\n",
              "       983, 772, 842, 341, 841, 211, 511, 971, 881, 564, 541, 948, 913,\n",
              "       941, 391,  55, 888, 631, 654, 961,  88, 946, 861, 945, 949, 977,\n",
              "       471, 987, 771, 552, 972, 703, 954, 671, 902, 845, 661, 903, 651,\n",
              "       782, 312, 343,  34, 822, 701, 994, 795, 793, 974, 251, 691, 912,\n",
              "       932, 963, 883, 381, 462, 222, 212, 582, 213, 743, 951, 412, 761,\n",
              "       802, 281, 292, 973, 542, 901, 271, 993, 884, 834, 985, 342, 835,\n",
              "       978, 783, 942, 838, 887, 979, 161, 362, 952, 621, 874, 797, 867,\n",
              "       301, 392, 844, 996, 878, 111, 113, 785, 862, 712, 131, 876, 522,\n",
              "       224, 975, 672, 601, 803, 731, 873, 531, 662, 905, 751, 851, 612,\n",
              "       753, 652, 886, 875, 441, 321, 592, 755, 583, 832,  14, 361, 904,\n",
              "       804, 741, 931, 632, 784, 893, 955, 117, 742, 796,   1,  84, 944,\n",
              "       744, 521])"
            ]
          },
          "metadata": {},
          "execution_count": 64
        }
      ]
    },
    {
      "cell_type": "code",
      "source": [
        "#the state, county, gender, and race values appear to be encoded, possibly for anonymity. I will need to rely on a decoder in order to make claims applied to real-world phenomenon"
      ],
      "metadata": {
        "id": "N1YTbmIR4dYl"
      },
      "execution_count": 65,
      "outputs": []
    },
    {
      "cell_type": "code",
      "source": [
        "z = df_train_ben['ChronicCond_Alzheimer'].value_counts()\n",
        "\n",
        "a = list(z.index)\n",
        "b = list(z)\n",
        "\n",
        "plt.figure(figsize=(10,10))\n",
        "plt.bar(a,b)\n",
        "plt.xticks(ticks=[1,2]);"
      ],
      "metadata": {
        "colab": {
          "base_uri": "https://localhost:8080/",
          "height": 830
        },
        "id": "mi1Qmf-4AHkW",
        "outputId": "ef520572-3892-4baa-f284-a3f9ba0b49a0"
      },
      "execution_count": 66,
      "outputs": [
        {
          "output_type": "display_data",
          "data": {
            "text/plain": [
              "<Figure size 1000x1000 with 1 Axes>"
            ],
            "image/png": "[encoded data removed]"
          },
          "metadata": {}
        }
      ]
    },
    {
      "cell_type": "code",
      "source": [
        "#while this is not generally how boolean values are stored, it appears that 1==True and 2==False.\n",
        "#further exploration is necessary to determine if a decoder should be utilized."
      ],
      "metadata": {
        "id": "G4ug3bR5EHOQ"
      },
      "execution_count": 67,
      "outputs": []
    },
    {
      "cell_type": "code",
      "source": [
        "u = df_train_ben['ChronicCond_Heartfailure'].value_counts()\n",
        "\n",
        "c = list(u.index)\n",
        "d = list(u)\n",
        "\n",
        "plt.figure(figsize=(10,10))\n",
        "plt.bar(c,d)\n",
        "plt.xticks(ticks=[1,2]);"
      ],
      "metadata": {
        "colab": {
          "base_uri": "https://localhost:8080/",
          "height": 830
        },
        "id": "KSXbrq_ZEY1j",
        "outputId": "d4e173cd-a9e8-43d9-a31a-7fa7074136ba"
      },
      "execution_count": 68,
      "outputs": [
        {
          "output_type": "display_data",
          "data": {
            "text/plain": [
              "<Figure size 1000x1000 with 1 Axes>"
            ],
            "image/png": "[encoded data removed]"
          },
          "metadata": {}
        }
      ]
    },
    {
      "cell_type": "code",
      "source": [
        "s = df_train_ben['ChronicCond_Cancer'].value_counts()\n",
        "\n",
        "e = list(s.index)\n",
        "f = list(s)\n",
        "\n",
        "plt.figure(figsize=(10,10))\n",
        "plt.bar(e,f)\n",
        "plt.xticks(ticks=[1,2]);"
      ],
      "metadata": {
        "colab": {
          "base_uri": "https://localhost:8080/",
          "height": 830
        },
        "id": "43SI2NVCEUo_",
        "outputId": "75d43b32-ce30-44cb-e106-297d887d8ac4"
      },
      "execution_count": 69,
      "outputs": [
        {
          "output_type": "display_data",
          "data": {
            "text/plain": [
              "<Figure size 1000x1000 with 1 Axes>"
            ],
            "image/png": "[encoded data removed]"
          },
          "metadata": {}
        }
      ]
    },
    {
      "cell_type": "code",
      "source": [
        "#a quick spot check further suggests this is the case, a decoder will be required"
      ],
      "metadata": {
        "id": "UwORnh-LEwf6"
      },
      "execution_count": 70,
      "outputs": []
    },
    {
      "cell_type": "code",
      "source": [
        "plt.hist(df_train_ben['NoOfMonths_PartACov'],bins=20);"
      ],
      "metadata": {
        "colab": {
          "base_uri": "https://localhost:8080/",
          "height": 430
        },
        "id": "oRdD6321cDIl",
        "outputId": "dc05d321-ab10-45bb-80b4-30a0af4c7a22"
      },
      "execution_count": 71,
      "outputs": [
        {
          "output_type": "display_data",
          "data": {
            "text/plain": [
              "<Figure size 640x480 with 1 Axes>"
            ],
            "image/png": "[encoded data removed]"
          },
          "metadata": {}
        }
      ]
    },
    {
      "cell_type": "code",
      "source": [
        "plt.hist(df_train_ben['NoOfMonths_PartBCov'],bins=20);"
      ],
      "metadata": {
        "colab": {
          "base_uri": "https://localhost:8080/",
          "height": 430
        },
        "id": "29SVZO30c9UO",
        "outputId": "1f350488-04c7-453f-8b97-508d3940c942"
      },
      "execution_count": 72,
      "outputs": [
        {
          "output_type": "display_data",
          "data": {
            "text/plain": [
              "<Figure size 640x480 with 1 Axes>"
            ],
            "image/png": "[encoded data removed]"
          },
          "metadata": {}
        }
      ]
    },
    {
      "cell_type": "code",
      "source": [],
      "metadata": {
        "id": "I9sBYNNwe2cD"
      },
      "execution_count": null,
      "outputs": []
    }
  ]
}